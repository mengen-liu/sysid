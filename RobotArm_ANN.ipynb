{
  "nbformat": 4,
  "nbformat_minor": 0,
  "metadata": {
    "colab": {
      "provenance": [],
      "collapsed_sections": [],
      "mount_file_id": "1AW-bwdIjcgWOT_TDCBIKI2eN7UP8B6gY",
      "authorship_tag": "ABX9TyO/TVqxl5pRCGMSw1Ya0LnA",
      "include_colab_link": true
    },
    "kernelspec": {
      "name": "python3",
      "display_name": "Python 3"
    },
    "language_info": {
      "name": "python"
    }
  },
  "cells": [
    {
      "cell_type": "markdown",
      "metadata": {
        "id": "view-in-github",
        "colab_type": "text"
      },
      "source": [
        "<a href=\"https://colab.research.google.com/github/mengen-liu/sysid/blob/main/RobotArm_ANN.ipynb\" target=\"_parent\"><img src=\"https://colab.research.google.com/assets/colab-badge.svg\" alt=\"Open In Colab\"/></a>"
      ]
    },
    {
      "cell_type": "markdown",
      "source": [
        "Import packages"
      ],
      "metadata": {
        "id": "1x1mXOwKnWLR"
      }
    },
    {
      "cell_type": "code",
      "execution_count": 17,
      "metadata": {
        "id": "LPQAaGWdi81Q"
      },
      "outputs": [],
      "source": [
        "import tensorflow as tf\n",
        "from tensorflow import keras\n",
        "\n",
        "import numpy as np\n",
        "import pandas as pd\n",
        "import matplotlib.pyplot as plt\n",
        "from sklearn.decomposition import PCA\n",
        "from scipy.linalg import svd\n",
        "from sklearn.model_selection import train_test_split \n",
        "from sklearn.metrics import r2_score\n",
        "from scipy import signal\n",
        "\n",
        "np.random.seed(41)\n",
        "tf.compat.v1.set_random_seed(68)"
      ]
    },
    {
      "cell_type": "markdown",
      "source": [
        "Import dataset"
      ],
      "metadata": {
        "id": "7eZw0HExnief"
      }
    },
    {
      "cell_type": "code",
      "source": [
        "data = pd.read_csv('/content/drive/MyDrive/Colab Notebooks/robot_arm.dat',sep='\\t',names=['u','y'],index_col=False)\n",
        "print(data.shape)\n",
        "\n",
        "# estimation\n",
        "ye = data.y.values[0:750]\n",
        "ue = data.u.values[0:750]\n",
        "# test\n",
        "yt = data.y.values[750:]\n",
        "ut = data.u.values[750:]\n",
        "\n",
        "deltay = (data.y.max() - data.y.min())/2\n",
        "y0 = data.y.min() + deltay\n",
        "\n",
        "deltau = (data.u.max() - data.u.min())/2\n",
        "u0 = data.u.min() + deltau"
      ],
      "metadata": {
        "colab": {
          "base_uri": "https://localhost:8080/"
        },
        "id": "ra4irAIQnR36",
        "outputId": "d0ed0e1f-e286-42b9-e6d2-c8b4cac1291b"
      },
      "execution_count": 18,
      "outputs": [
        {
          "output_type": "stream",
          "name": "stdout",
          "text": [
            "(1024, 2)\n"
          ]
        }
      ]
    },
    {
      "cell_type": "markdown",
      "source": [
        "Define useful functions"
      ],
      "metadata": {
        "id": "CeNuOe0nrZd1"
      }
    },
    {
      "cell_type": "code",
      "source": [
        "def scaler(x,x0,delta):\n",
        "    return (x-x0)/delta\n",
        "\n",
        "def rescaler(x,x0,delta):\n",
        "    return x*delta+x0\n",
        "    \n",
        "def matReg(y,u,ny,nu):\n",
        "    # for debuging code\n",
        "    # y= np.array([1, 2, 3,4,5,6,7,8,9,10])\n",
        "    # u= np.array([1, 2, 3,4,5,6,7,8,9,10])\n",
        "\n",
        "    p = np.max((ny,nu)) + 1\n",
        "    (N, ) = y.shape\n",
        "    (Nu, ) = u.shape\n",
        "    \n",
        "    # sanity check\n",
        "    if N != Nu:\n",
        "        print('Dimensions of u and y vector are not consistent')\n",
        "        return (-1,-1)\n",
        "    \n",
        "    # create target vector\n",
        "    target = y[p-1:N]\n",
        "\n",
        "    # create regression matrix\n",
        "    Phi = np.zeros((N-p+1,ny+nu))\n",
        "    for i in range(ny):\n",
        "        Phi[:,i]    = y[p-i-2: N - i-1]\n",
        "\n",
        "    for i in range(nu):\n",
        "        Phi[:,i+ny] = u[p-i-2: N - i-1]\n",
        "\n",
        "    return (target, Phi)\n",
        "\n",
        "def freeRun(model, y, u,ny,nu):\n",
        "    p = max(ny,nu) + 1 \n",
        "    (N, ) = y.shape\n",
        "\n",
        "    yhat = np.zeros(N)\n",
        "    yhat[:p-1] = y[:p-1] # include initial conditions\n",
        "\n",
        "    for k in range(p,N+1):\n",
        "        # print(k)\n",
        "        auxY = np.concatenate((  yhat[(k-p):(k-1)]   ,  (0,)   ),axis=0)\n",
        "        auxU = np.concatenate((  u   [(k-p):(k-1)]   ,  (0,)   ),axis=0)\n",
        "        \n",
        "        _,fr_input = matReg(auxY,auxU,ny,nu)\n",
        "        yhat[k-1] = model.predict(fr_input)\n",
        "    # return only the values that are predictions\n",
        "    # (remove the initial conditions)\n",
        "    return yhat[-(N-p+1):] \n"
      ],
      "metadata": {
        "id": "4uE7b2tZnJzl"
      },
      "execution_count": 19,
      "outputs": []
    },
    {
      "cell_type": "markdown",
      "source": [
        "Plot data"
      ],
      "metadata": {
        "id": "xyt2dap60_jr"
      }
    },
    {
      "cell_type": "code",
      "source": [
        "# Data scaling -1,1\n",
        "ye_n = scaler(ye,y0,deltay)\n",
        "ue_n = scaler(ue,u0,deltau)\n",
        "\n",
        "yt_n = scaler(yt,y0,deltay)\n",
        "ut_n = scaler(ut,u0,deltau)\n",
        "\n",
        "plt.figure()\n",
        "plt.subplot(221)\n",
        "plt.plot(ue_n)\n",
        "plt.title('ue')\n",
        "plt.grid()\n",
        "plt.subplot(222)\n",
        "plt.plot(ut_n)\n",
        "plt.title('ut')\n",
        "plt.grid()\n",
        "plt.subplot(223)\n",
        "plt.plot(ye_n)\n",
        "plt.title('ye')\n",
        "plt.grid()\n",
        "plt.subplot(224)\n",
        "plt.plot(yt_n)\n",
        "plt.title('yt')\n",
        "plt.grid()\n",
        "plt.show()"
      ],
      "metadata": {
        "id": "yzXsVKKk1IwQ",
        "colab": {
          "base_uri": "https://localhost:8080/",
          "height": 281
        },
        "outputId": "b92433ab-009c-45f4-8d5b-b2b952676055"
      },
      "execution_count": 20,
      "outputs": [
        {
          "output_type": "display_data",
          "data": {
            "text/plain": [
              "<Figure size 432x288 with 4 Axes>"
            ],
            "image/png": "[encoded data removed]"
          },
          "metadata": {
            "needs_background": "light"
          }
        }
      ]
    },
    {
      "cell_type": "markdown",
      "source": [
        "Create output and regression matrix"
      ],
      "metadata": {
        "id": "ajaEqdkt1o21"
      }
    },
    {
      "cell_type": "code",
      "source": [
        "ny = 2\n",
        "nu = 3 # model orders\n",
        "(Ye_n,Phie) = matReg(ye_n,ue_n,ny,nu)\n",
        "(Yt_n,Phit) = matReg(yt_n,ut_n,ny,nu)"
      ],
      "metadata": {
        "id": "OFbopL9u1pY2"
      },
      "execution_count": 21,
      "outputs": []
    },
    {
      "cell_type": "markdown",
      "source": [
        "Define model architecture"
      ],
      "metadata": {
        "id": "tlMoDIP51ydU"
      }
    },
    {
      "cell_type": "code",
      "source": [
        "_ , ninp = Phie.shape\n",
        "nout = 1\n",
        "nneu = 35     # how many neurons per layer\n",
        "h_layer = 3   # how many hidden layers\n",
        "\n",
        "# model definition\n",
        "input_ = keras.layers.Input(shape=(ninp,))\n",
        "hidden = keras.layers.Dense(nneu, activation=\"selu\",kernel_initializer=\"lecun_normal\",)(input_)\n",
        "h = 1\n",
        "while h<h_layer:\n",
        "    h += 1\n",
        "    hidden = keras.layers.Dense(nneu, activation=\"selu\",kernel_initializer=\"lecun_normal\")(hidden)\n",
        "\n",
        "output = keras.layers.Dense(nout)(hidden)\n",
        "# instantiate model\n",
        "model = keras.models.Model(inputs=[input_],outputs=[output])\n",
        "# define optimizer and learning rate\n",
        "optimizer = keras.optimizers.Nadam(learning_rate = 1e-3)\n",
        "# compile model to train it\n",
        "model.compile(loss=\"mean_squared_error\", optimizer=optimizer)"
      ],
      "metadata": {
        "id": "m2kuCQ9f1y0q"
      },
      "execution_count": 22,
      "outputs": []
    },
    {
      "cell_type": "markdown",
      "source": [
        "Finally train the model"
      ],
      "metadata": {
        "id": "ibeQZeKG2CXx"
      }
    },
    {
      "cell_type": "code",
      "source": [
        "batch_size = 1\n",
        "last_loss = 1\n",
        "while (last_loss >= 1e-3 and batch_size<=128):\n",
        "    batch_size = batch_size*2 \n",
        "    history = model.fit(Phie, Ye_n, epochs=5, batch_size = batch_size)\n",
        "    last_loss = history.history['loss'][-1]\n",
        "\n",
        "print('-------------- Batch size / Loss --------------')\n",
        "print(f'Batch size = {batch_size}')\n",
        "print(f'Loss       = {last_loss}')"
      ],
      "metadata": {
        "colab": {
          "base_uri": "https://localhost:8080/"
        },
        "id": "3v8g93Gz2C_w",
        "outputId": "f6fc0513-ffee-44a2-d8c5-97f0184eab8b"
      },
      "execution_count": 23,
      "outputs": [
        {
          "output_type": "stream",
          "name": "stdout",
          "text": [
            "Epoch 1/5\n",
            "374/374 [==============================] - 1s 1ms/step - loss: 0.0386\n",
            "Epoch 2/5\n",
            "374/374 [==============================] - 0s 1ms/step - loss: 0.0085\n",
            "Epoch 3/5\n",
            "374/374 [==============================] - 0s 1ms/step - loss: 0.0061\n",
            "Epoch 4/5\n",
            "374/374 [==============================] - 0s 1ms/step - loss: 0.0051\n",
            "Epoch 5/5\n",
            "374/374 [==============================] - 0s 1ms/step - loss: 0.0039\n",
            "Epoch 1/5\n",
            "187/187 [==============================] - 0s 1ms/step - loss: 0.0023\n",
            "Epoch 2/5\n",
            "187/187 [==============================] - 0s 1ms/step - loss: 0.0020\n",
            "Epoch 3/5\n",
            "187/187 [==============================] - 0s 1ms/step - loss: 0.0020\n",
            "Epoch 4/5\n",
            "187/187 [==============================] - 0s 1ms/step - loss: 0.0019\n",
            "Epoch 5/5\n",
            "187/187 [==============================] - 0s 1ms/step - loss: 0.0018\n",
            "Epoch 1/5\n",
            "94/94 [==============================] - 0s 1ms/step - loss: 0.0014\n",
            "Epoch 2/5\n",
            "94/94 [==============================] - 0s 1ms/step - loss: 0.0013\n",
            "Epoch 3/5\n",
            "94/94 [==============================] - 0s 1ms/step - loss: 0.0013\n",
            "Epoch 4/5\n",
            "94/94 [==============================] - 0s 1ms/step - loss: 0.0013\n",
            "Epoch 5/5\n",
            "94/94 [==============================] - 0s 1ms/step - loss: 0.0013\n",
            "Epoch 1/5\n",
            "47/47 [==============================] - 0s 1ms/step - loss: 0.0011\n",
            "Epoch 2/5\n",
            "47/47 [==============================] - 0s 1ms/step - loss: 0.0011\n",
            "Epoch 3/5\n",
            "47/47 [==============================] - 0s 1ms/step - loss: 0.0011\n",
            "Epoch 4/5\n",
            "47/47 [==============================] - 0s 1ms/step - loss: 0.0011\n",
            "Epoch 5/5\n",
            "47/47 [==============================] - 0s 1ms/step - loss: 0.0011\n",
            "Epoch 1/5\n",
            "24/24 [==============================] - 0s 1ms/step - loss: 0.0010\n",
            "Epoch 2/5\n",
            "24/24 [==============================] - 0s 1ms/step - loss: 9.6265e-04\n",
            "Epoch 3/5\n",
            "24/24 [==============================] - 0s 1ms/step - loss: 9.8813e-04\n",
            "Epoch 4/5\n",
            "24/24 [==============================] - 0s 1ms/step - loss: 9.3407e-04\n",
            "Epoch 5/5\n",
            "24/24 [==============================] - 0s 1ms/step - loss: 9.4503e-04\n",
            "-------------- Batch size / Loss --------------\n",
            "Batch size = 32\n",
            "Loss       = 0.0009450347279198468\n"
          ]
        }
      ]
    },
    {
      "cell_type": "markdown",
      "source": [
        "Run one-step-ahead prediction"
      ],
      "metadata": {
        "id": "RhRC45yw2Jdd"
      }
    },
    {
      "cell_type": "code",
      "source": [
        "# One step ahead\n",
        "ye_pred1_n = model.predict(Phie)\n",
        "yt_pred1_n  = model.predict(Phit)\n",
        "\n",
        "R2test1  = r2_score(Yt_n, yt_pred1_n)\n",
        "R2train1  = r2_score(Ye_n, ye_pred1_n)\n",
        "\n",
        "print('-------------- One step ahead  --------------')\n",
        "print(f'R2test1   =  {R2test1}')\n",
        "print(f'R2train1  =  {R2train1}')"
      ],
      "metadata": {
        "colab": {
          "base_uri": "https://localhost:8080/"
        },
        "id": "Lvd_LCDH2KCr",
        "outputId": "b4b74bdd-1d32-4d83-c3a5-0c6f1e89e871"
      },
      "execution_count": 24,
      "outputs": [
        {
          "output_type": "stream",
          "name": "stdout",
          "text": [
            "24/24 [==============================] - 0s 947us/step\n",
            "9/9 [==============================] - 0s 1ms/step\n",
            "-------------- One step ahead  --------------\n",
            "R2test1   =  0.9811775222729349\n",
            "R2train1  =  0.9926310994642871\n"
          ]
        }
      ]
    },
    {
      "cell_type": "markdown",
      "source": [
        "Run free-run simulation (prediction over prediction)"
      ],
      "metadata": {
        "id": "ZOvyd5Xg2O7Y"
      }
    },
    {
      "cell_type": "code",
      "source": [
        "# Free Run\n",
        "# ye_pred0_n = freeRun(model,ye_n,ue_n,ny,nu)\n",
        "yt_pred0_n  = freeRun(model,yt_n,ut_n,ny,nu)\n",
        "\n",
        "# R2train0 = r2_score(Ye_n, ye_pred0_n)\n",
        "R2test0  = r2_score(Yt_n, yt_pred0_n)\n",
        "\n",
        "print('-------------- Free Run  --------------')\n",
        "print(f'R2test0   =  {R2test0}')\n",
        "# print(f'R2train0  =  {R2train0}')"
      ],
      "metadata": {
        "colab": {
          "base_uri": "https://localhost:8080/"
        },
        "id": "KlQgx3TV2PeZ",
        "outputId": "82ceaf34-97d5-4e62-f22b-31235261366d"
      },
      "execution_count": 27,
      "outputs": [
        {
          "output_type": "stream",
          "name": "stdout",
          "text": [
            "1/1 [==============================] - 0s 14ms/step\n",
            "1/1 [==============================] - 0s 12ms/step\n",
            "1/1 [==============================] - 0s 13ms/step\n",
            "1/1 [==============================] - 0s 15ms/step\n",
            "1/1 [==============================] - 0s 14ms/step\n",
            "1/1 [==============================] - 0s 19ms/step\n",
            "1/1 [==============================] - 0s 14ms/step\n",
            "1/1 [==============================] - 0s 13ms/step\n",
            "1/1 [==============================] - 0s 13ms/step\n",
            "1/1 [==============================] - 0s 14ms/step\n",
            "1/1 [==============================] - 0s 13ms/step\n",
            "1/1 [==============================] - 0s 14ms/step\n",
            "1/1 [==============================] - 0s 12ms/step\n",
            "1/1 [==============================] - 0s 13ms/step\n",
            "1/1 [==============================] - 0s 15ms/step\n",
            "1/1 [==============================] - 0s 16ms/step\n",
            "1/1 [==============================] - 0s 13ms/step\n",
            "1/1 [==============================] - 0s 14ms/step\n",
            "1/1 [==============================] - 0s 14ms/step\n",
            "1/1 [==============================] - 0s 14ms/step\n",
            "1/1 [==============================] - 0s 13ms/step\n",
            "1/1 [==============================] - 0s 15ms/step\n",
            "1/1 [==============================] - 0s 19ms/step\n",
            "1/1 [==============================] - 0s 19ms/step\n",
            "1/1 [==============================] - 0s 20ms/step\n",
            "1/1 [==============================] - 0s 20ms/step\n",
            "1/1 [==============================] - 0s 20ms/step\n",
            "1/1 [==============================] - 0s 18ms/step\n",
            "1/1 [==============================] - 0s 17ms/step\n",
            "1/1 [==============================] - 0s 18ms/step\n",
            "1/1 [==============================] - 0s 16ms/step\n",
            "1/1 [==============================] - 0s 16ms/step\n",
            "1/1 [==============================] - 0s 15ms/step\n",
            "1/1 [==============================] - 0s 16ms/step\n",
            "1/1 [==============================] - 0s 15ms/step\n",
            "1/1 [==============================] - 0s 15ms/step\n",
            "1/1 [==============================] - 0s 15ms/step\n",
            "1/1 [==============================] - 0s 15ms/step\n",
            "1/1 [==============================] - 0s 17ms/step\n",
            "1/1 [==============================] - 0s 20ms/step\n",
            "1/1 [==============================] - 0s 22ms/step\n",
            "1/1 [==============================] - 0s 19ms/step\n",
            "1/1 [==============================] - 0s 17ms/step\n",
            "1/1 [==============================] - 0s 16ms/step\n",
            "1/1 [==============================] - 0s 15ms/step\n",
            "1/1 [==============================] - 0s 18ms/step\n",
            "1/1 [==============================] - 0s 15ms/step\n",
            "1/1 [==============================] - 0s 14ms/step\n",
            "1/1 [==============================] - 0s 15ms/step\n",
            "1/1 [==============================] - 0s 20ms/step\n",
            "1/1 [==============================] - 0s 15ms/step\n",
            "1/1 [==============================] - 0s 19ms/step\n",
            "1/1 [==============================] - 0s 18ms/step\n",
            "1/1 [==============================] - 0s 19ms/step\n",
            "1/1 [==============================] - 0s 17ms/step\n",
            "1/1 [==============================] - 0s 18ms/step\n",
            "1/1 [==============================] - 0s 15ms/step\n",
            "1/1 [==============================] - 0s 15ms/step\n",
            "1/1 [==============================] - 0s 15ms/step\n",
            "1/1 [==============================] - 0s 15ms/step\n",
            "1/1 [==============================] - 0s 16ms/step\n",
            "1/1 [==============================] - 0s 18ms/step\n",
            "1/1 [==============================] - 0s 15ms/step\n",
            "1/1 [==============================] - 0s 19ms/step\n",
            "1/1 [==============================] - 0s 21ms/step\n",
            "1/1 [==============================] - 0s 17ms/step\n",
            "1/1 [==============================] - 0s 15ms/step\n",
            "1/1 [==============================] - 0s 21ms/step\n",
            "1/1 [==============================] - 0s 17ms/step\n",
            "1/1 [==============================] - 0s 17ms/step\n",
            "1/1 [==============================] - 0s 21ms/step\n",
            "1/1 [==============================] - 0s 14ms/step\n",
            "1/1 [==============================] - 0s 13ms/step\n",
            "1/1 [==============================] - 0s 14ms/step\n",
            "1/1 [==============================] - 0s 13ms/step\n",
            "1/1 [==============================] - 0s 15ms/step\n",
            "1/1 [==============================] - 0s 13ms/step\n",
            "1/1 [==============================] - 0s 14ms/step\n",
            "1/1 [==============================] - 0s 13ms/step\n",
            "1/1 [==============================] - 0s 15ms/step\n",
            "1/1 [==============================] - 0s 15ms/step\n",
            "1/1 [==============================] - 0s 15ms/step\n",
            "1/1 [==============================] - 0s 14ms/step\n",
            "1/1 [==============================] - 0s 17ms/step\n",
            "1/1 [==============================] - 0s 13ms/step\n",
            "1/1 [==============================] - 0s 13ms/step\n",
            "1/1 [==============================] - 0s 13ms/step\n",
            "1/1 [==============================] - 0s 13ms/step\n",
            "1/1 [==============================] - 0s 13ms/step\n",
            "1/1 [==============================] - 0s 13ms/step\n",
            "1/1 [==============================] - 0s 12ms/step\n",
            "1/1 [==============================] - 0s 16ms/step\n",
            "1/1 [==============================] - 0s 15ms/step\n",
            "1/1 [==============================] - 0s 13ms/step\n",
            "1/1 [==============================] - 0s 12ms/step\n",
            "1/1 [==============================] - 0s 13ms/step\n",
            "1/1 [==============================] - 0s 12ms/step\n",
            "1/1 [==============================] - 0s 12ms/step\n",
            "1/1 [==============================] - 0s 11ms/step\n",
            "1/1 [==============================] - 0s 11ms/step\n",
            "1/1 [==============================] - 0s 12ms/step\n",
            "1/1 [==============================] - 0s 12ms/step\n",
            "1/1 [==============================] - 0s 13ms/step\n",
            "1/1 [==============================] - 0s 17ms/step\n",
            "1/1 [==============================] - 0s 50ms/step\n",
            "1/1 [==============================] - 0s 19ms/step\n",
            "1/1 [==============================] - 0s 23ms/step\n",
            "1/1 [==============================] - 0s 30ms/step\n",
            "1/1 [==============================] - 0s 16ms/step\n",
            "1/1 [==============================] - 0s 45ms/step\n",
            "1/1 [==============================] - 0s 36ms/step\n",
            "1/1 [==============================] - 0s 31ms/step\n",
            "1/1 [==============================] - 0s 77ms/step\n",
            "1/1 [==============================] - 0s 14ms/step\n",
            "1/1 [==============================] - 0s 11ms/step\n",
            "1/1 [==============================] - 0s 14ms/step\n",
            "1/1 [==============================] - 0s 16ms/step\n",
            "1/1 [==============================] - 0s 13ms/step\n",
            "1/1 [==============================] - 0s 14ms/step\n",
            "1/1 [==============================] - 0s 14ms/step\n",
            "1/1 [==============================] - 0s 15ms/step\n",
            "1/1 [==============================] - 0s 16ms/step\n",
            "1/1 [==============================] - 0s 14ms/step\n",
            "1/1 [==============================] - 0s 14ms/step\n",
            "1/1 [==============================] - 0s 13ms/step\n",
            "1/1 [==============================] - 0s 14ms/step\n",
            "1/1 [==============================] - 0s 19ms/step\n",
            "1/1 [==============================] - 0s 17ms/step\n",
            "1/1 [==============================] - 0s 18ms/step\n",
            "1/1 [==============================] - 0s 14ms/step\n",
            "1/1 [==============================] - 0s 14ms/step\n",
            "1/1 [==============================] - 0s 14ms/step\n",
            "1/1 [==============================] - 0s 14ms/step\n",
            "1/1 [==============================] - 0s 13ms/step\n",
            "1/1 [==============================] - 0s 13ms/step\n",
            "1/1 [==============================] - 0s 14ms/step\n",
            "1/1 [==============================] - 0s 13ms/step\n",
            "1/1 [==============================] - 0s 14ms/step\n",
            "1/1 [==============================] - 0s 13ms/step\n",
            "1/1 [==============================] - 0s 13ms/step\n",
            "1/1 [==============================] - 0s 12ms/step\n",
            "1/1 [==============================] - 0s 12ms/step\n",
            "1/1 [==============================] - 0s 13ms/step\n",
            "1/1 [==============================] - 0s 16ms/step\n",
            "1/1 [==============================] - 0s 13ms/step\n",
            "1/1 [==============================] - 0s 13ms/step\n",
            "1/1 [==============================] - 0s 13ms/step\n",
            "1/1 [==============================] - 0s 12ms/step\n",
            "1/1 [==============================] - 0s 12ms/step\n",
            "1/1 [==============================] - 0s 14ms/step\n",
            "1/1 [==============================] - 0s 17ms/step\n",
            "1/1 [==============================] - 0s 18ms/step\n",
            "1/1 [==============================] - 0s 13ms/step\n",
            "1/1 [==============================] - 0s 11ms/step\n",
            "1/1 [==============================] - 0s 11ms/step\n",
            "1/1 [==============================] - 0s 11ms/step\n",
            "1/1 [==============================] - 0s 10ms/step\n",
            "1/1 [==============================] - 0s 14ms/step\n",
            "1/1 [==============================] - 0s 13ms/step\n",
            "1/1 [==============================] - 0s 11ms/step\n",
            "1/1 [==============================] - 0s 11ms/step\n",
            "1/1 [==============================] - 0s 15ms/step\n",
            "1/1 [==============================] - 0s 13ms/step\n",
            "1/1 [==============================] - 0s 13ms/step\n",
            "1/1 [==============================] - 0s 14ms/step\n",
            "1/1 [==============================] - 0s 13ms/step\n",
            "1/1 [==============================] - 0s 23ms/step\n",
            "1/1 [==============================] - 0s 31ms/step\n",
            "1/1 [==============================] - 0s 42ms/step\n",
            "1/1 [==============================] - 0s 25ms/step\n",
            "1/1 [==============================] - 0s 18ms/step\n",
            "1/1 [==============================] - 0s 23ms/step\n",
            "1/1 [==============================] - 0s 12ms/step\n",
            "1/1 [==============================] - 0s 11ms/step\n",
            "1/1 [==============================] - 0s 13ms/step\n",
            "1/1 [==============================] - 0s 13ms/step\n",
            "1/1 [==============================] - 0s 15ms/step\n",
            "1/1 [==============================] - 0s 13ms/step\n",
            "1/1 [==============================] - 0s 13ms/step\n",
            "1/1 [==============================] - 0s 14ms/step\n",
            "1/1 [==============================] - 0s 13ms/step\n",
            "1/1 [==============================] - 0s 17ms/step\n",
            "1/1 [==============================] - 0s 15ms/step\n",
            "1/1 [==============================] - 0s 13ms/step\n",
            "1/1 [==============================] - 0s 15ms/step\n",
            "1/1 [==============================] - 0s 13ms/step\n",
            "1/1 [==============================] - 0s 13ms/step\n",
            "1/1 [==============================] - 0s 15ms/step\n",
            "1/1 [==============================] - 0s 19ms/step\n",
            "1/1 [==============================] - 0s 14ms/step\n",
            "1/1 [==============================] - 0s 15ms/step\n",
            "1/1 [==============================] - 0s 13ms/step\n",
            "1/1 [==============================] - 0s 13ms/step\n",
            "1/1 [==============================] - 0s 13ms/step\n",
            "1/1 [==============================] - 0s 13ms/step\n",
            "1/1 [==============================] - 0s 16ms/step\n",
            "1/1 [==============================] - 0s 12ms/step\n",
            "1/1 [==============================] - 0s 13ms/step\n",
            "1/1 [==============================] - 0s 13ms/step\n",
            "1/1 [==============================] - 0s 13ms/step\n",
            "1/1 [==============================] - 0s 12ms/step\n",
            "1/1 [==============================] - 0s 14ms/step\n",
            "1/1 [==============================] - 0s 13ms/step\n",
            "1/1 [==============================] - 0s 14ms/step\n",
            "1/1 [==============================] - 0s 13ms/step\n",
            "1/1 [==============================] - 0s 13ms/step\n",
            "1/1 [==============================] - 0s 14ms/step\n",
            "1/1 [==============================] - 0s 13ms/step\n",
            "1/1 [==============================] - 0s 15ms/step\n",
            "1/1 [==============================] - 0s 14ms/step\n",
            "1/1 [==============================] - 0s 12ms/step\n",
            "1/1 [==============================] - 0s 12ms/step\n",
            "1/1 [==============================] - 0s 13ms/step\n",
            "1/1 [==============================] - 0s 14ms/step\n",
            "1/1 [==============================] - 0s 13ms/step\n",
            "1/1 [==============================] - 0s 17ms/step\n",
            "1/1 [==============================] - 0s 14ms/step\n",
            "1/1 [==============================] - 0s 14ms/step\n",
            "1/1 [==============================] - 0s 15ms/step\n",
            "1/1 [==============================] - 0s 12ms/step\n",
            "1/1 [==============================] - 0s 13ms/step\n",
            "1/1 [==============================] - 0s 17ms/step\n",
            "1/1 [==============================] - 0s 15ms/step\n",
            "1/1 [==============================] - 0s 15ms/step\n",
            "1/1 [==============================] - 0s 13ms/step\n",
            "1/1 [==============================] - 0s 14ms/step\n",
            "1/1 [==============================] - 0s 14ms/step\n",
            "1/1 [==============================] - 0s 13ms/step\n",
            "1/1 [==============================] - 0s 12ms/step\n",
            "1/1 [==============================] - 0s 12ms/step\n",
            "1/1 [==============================] - 0s 12ms/step\n",
            "1/1 [==============================] - 0s 11ms/step\n",
            "1/1 [==============================] - 0s 15ms/step\n",
            "1/1 [==============================] - 0s 12ms/step\n",
            "1/1 [==============================] - 0s 11ms/step\n",
            "1/1 [==============================] - 0s 11ms/step\n",
            "1/1 [==============================] - 0s 12ms/step\n",
            "1/1 [==============================] - 0s 11ms/step\n",
            "1/1 [==============================] - 0s 12ms/step\n",
            "1/1 [==============================] - 0s 15ms/step\n",
            "1/1 [==============================] - 0s 11ms/step\n",
            "1/1 [==============================] - 0s 13ms/step\n",
            "1/1 [==============================] - 0s 12ms/step\n",
            "1/1 [==============================] - 0s 14ms/step\n",
            "1/1 [==============================] - 0s 11ms/step\n",
            "1/1 [==============================] - 0s 12ms/step\n",
            "1/1 [==============================] - 0s 12ms/step\n",
            "1/1 [==============================] - 0s 13ms/step\n",
            "1/1 [==============================] - 0s 12ms/step\n",
            "1/1 [==============================] - 0s 12ms/step\n",
            "1/1 [==============================] - 0s 12ms/step\n",
            "1/1 [==============================] - 0s 14ms/step\n",
            "1/1 [==============================] - 0s 13ms/step\n",
            "1/1 [==============================] - 0s 14ms/step\n",
            "1/1 [==============================] - 0s 13ms/step\n",
            "1/1 [==============================] - 0s 15ms/step\n",
            "1/1 [==============================] - 0s 13ms/step\n",
            "1/1 [==============================] - 0s 19ms/step\n",
            "1/1 [==============================] - 0s 12ms/step\n",
            "1/1 [==============================] - 0s 12ms/step\n",
            "1/1 [==============================] - 0s 13ms/step\n",
            "1/1 [==============================] - 0s 14ms/step\n",
            "1/1 [==============================] - 0s 13ms/step\n",
            "1/1 [==============================] - 0s 12ms/step\n",
            "1/1 [==============================] - 0s 17ms/step\n",
            "1/1 [==============================] - 0s 12ms/step\n",
            "1/1 [==============================] - 0s 14ms/step\n",
            "1/1 [==============================] - 0s 12ms/step\n",
            "1/1 [==============================] - 0s 13ms/step\n",
            "1/1 [==============================] - 0s 12ms/step\n",
            "1/1 [==============================] - 0s 13ms/step\n",
            "-------------- Free Run  --------------\n",
            "R2test0   =  0.7625854914416182\n"
          ]
        }
      ]
    },
    {
      "cell_type": "markdown",
      "source": [
        "Plot predictions"
      ],
      "metadata": {
        "id": "4owllQfQ5AQd"
      }
    },
    {
      "cell_type": "code",
      "source": [
        "Yt = rescaler(Yt_n,y0,deltay)\n",
        "yt_pred0 = rescaler(yt_pred0_n,y0,deltay)\n",
        "\n",
        "plt.figure()\n",
        "# plt.subplot(211)\n",
        "# plt.plot(Ye,'k',y_train_pred0,'r')\n",
        "# plt.title('Estimation')\n",
        "# plt.legend(('real','prediction (FR)'))\n",
        "# plt.grid()\n",
        "# plt.subplot(211)\n",
        "plt.plot(Yt,'k',yt_pred0,'r')\n",
        "plt.title(f'Test, R2 = {R2test0}')\n",
        "plt.legend(('real','prediction (FR)'))\n",
        "plt.grid()\n",
        "plt.show()\n",
        "\n",
        "plt.figure()\n",
        "minY = min(min(Yt),min(yt_pred0))\n",
        "maxY = max(max(Yt),max(yt_pred0))\n",
        "plt.scatter(Yt,yt_pred0,c='red',label='Prediction')\n",
        "plt.plot([minY, maxY], [minY, maxY], color = 'black', linewidth = 2,label='Perfect model')\n",
        "plt.xlabel('Real')\n",
        "plt.ylabel('Prediction')\n",
        "plt.grid()\n",
        "plt.legend()\n",
        "plt.show()"
      ],
      "metadata": {
        "colab": {
          "base_uri": "https://localhost:8080/",
          "height": 543
        },
        "id": "8xl5Uvn-5Ap1",
        "outputId": "5d8f7368-83b2-4e87-d798-9b42b7d19c87"
      },
      "execution_count": 32,
      "outputs": [
        {
          "output_type": "display_data",
          "data": {
            "text/plain": [
              "<Figure size 432x288 with 1 Axes>"
            ],
            "image/png": "[encoded data removed]"
          },
          "metadata": {
            "needs_background": "light"
          }
        },
        {
          "output_type": "display_data",
          "data": {
            "text/plain": [
              "<Figure size 432x288 with 1 Axes>"
            ],
            "image/png": "[encoded data removed]"
          },
          "metadata": {
            "needs_background": "light"
          }
        }
      ]
    }
  ]
}